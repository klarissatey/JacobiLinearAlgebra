{
  "nbformat": 4,
  "nbformat_minor": 0,
  "metadata": {
    "colab": {
      "provenance": [],
      "include_colab_link": true
    },
    "kernelspec": {
      "name": "python3",
      "display_name": "Python 3"
    },
    "language_info": {
      "name": "python"
    }
  },
  "cells": [
    {
      "cell_type": "markdown",
      "metadata": {
        "id": "view-in-github",
        "colab_type": "text"
      },
      "source": [
        "<a href=\"https://colab.research.google.com/github/klarissatey/Matrix/blob/main/jacobi.ipynb\" target=\"_parent\"><img src=\"https://colab.research.google.com/assets/colab-badge.svg\" alt=\"Open In Colab\"/></a>"
      ]
    },
    {
      "cell_type": "code",
      "execution_count": 1,
      "metadata": {
        "id": "kQaJc0u4KY98"
      },
      "outputs": [],
      "source": [
        "import numpy as np\n"
      ]
    },
    {
      "cell_type": "code",
      "source": [
        "\"\"\"\n",
        "  Gets the Compressed Sparse Row representation for\n",
        "  a matrix A, which is an nxn invertible matrix\n",
        "  Paramaters: A\n",
        "  Returns: S, IS, and JS (three arrays)\n",
        "  S: contains the non-zero entries of A\n",
        "  IS: tells us the number of cumulative non-zero entries\n",
        "  for row i-1\n",
        "  JS: stores the corresponding column indices of the\n",
        "  entries in S\n",
        "\"\"\"\n",
        "def getSparse(A) :\n",
        "  length = A.shape[0]\n",
        "  S = []\n",
        "  IS = []\n",
        "  IS.append(0)\n",
        "  nonZeroCount = 0;\n",
        "  JS = []\n",
        "  row = 0\n",
        "  col = 0\n",
        "  while row < length:\n",
        "    col = 0\n",
        "    while col < length:\n",
        "      if not A[row][col] == 0:\n",
        "        S.append(A[row][col])\n",
        "        JS.append(col)\n",
        "        nonZeroCount += 1\n",
        "      col += 1\n",
        "    IS.append(nonZeroCount);\n",
        "    row += 1\n",
        "  return S, IS, JS\n"
      ],
      "metadata": {
        "id": "74QTHDx5KgYw"
      },
      "execution_count": 3,
      "outputs": []
    },
    {
      "cell_type": "code",
      "source": [
        "\"\"\"\n",
        "    Create the vector b for the given size N,\n",
        "    with the middle element set to 1 and all others set to 0.\n",
        "\n",
        "    Parameters:\n",
        "    - N (int): Size of the vector.\n",
        "\n",
        "    Returns:\n",
        "    - numpy.ndarray: The vector b with the specified elements.\n",
        "    \"\"\"\n",
        "def create_b_vector(N):\n",
        "    b = np.zeros(N**2)  # Initialize b as a zero vector of length N\n",
        "    b[N**2 // 2] = 1    # Set the middle element to 1\n",
        "    return b"
      ],
      "metadata": {
        "id": "vhmDP5QQAc_9"
      },
      "execution_count": 4,
      "outputs": []
    },
    {
      "cell_type": "code",
      "source": [
        "\"\"\"\n",
        "  Use the Jacobi method to approximate the solution to a system of\n",
        "  linear equations\n",
        "  Uses CSR to store A, making this method O(nk) operations where k is the\n",
        "  number of non-zero entries per row of A\n",
        "  Parameters:\n",
        "    - A: an nxn invertible matrix\n",
        "    - b: the solution vector\n",
        "    - x: the initial vector\n",
        "    - e: epsilon, the error of tolerance\n",
        "  Return:\n",
        "    - x: the approximated solution, converges when error is less than epsilon\n",
        "\"\"\"\n",
        "\n",
        "def jacobi(A, b, x, e):\n",
        "  print(\"Jacobi method\")\n",
        "  count = 0;\n",
        "  D = np.diag(np.diagonal(A))\n",
        "  n = len(b)\n",
        "  invD = inverseOfD(D)\n",
        "  max_error = float('inf')\n",
        "  x_curr = x.copy()\n",
        "  x_new = np.zeros(len(A))\n",
        "\n",
        "  sparseTuple = getSparse(A)\n",
        "  S = sparseTuple[0]\n",
        "  IS = sparseTuple[1]\n",
        "  JS = sparseTuple[2]\n",
        "\n",
        "  while max_error > e:\n",
        "    count += 1\n",
        "    max_error = 0\n",
        "    for i in range(n):\n",
        "      start = IS[i]\n",
        "      end = IS[i+1]\n",
        "      Ax_i = 0\n",
        "      for j in range(start, end):\n",
        "        Ax_i += S[j] * x_curr[JS[j]]\n",
        "      error = abs(Ax_i-b[i])\n",
        "      if error > max_error: # finding max value of Ax_k-b\n",
        "        max_error = error\n",
        "      x_new[i] = x_curr[i] + invD[i][i]*(b[i] - Ax_i)\n",
        "    x_curr = x_new.copy()\n",
        "\n",
        "    print(\"The approximation for x is:\")\n",
        "    print(x_new)\n",
        "    return x_new\n",
        "\n",
        "def inverseOfD(D):\n",
        "  return np.divide(1, D, where=D!=0)"
      ],
      "metadata": {
        "id": "IpKK3ukPKlmg"
      },
      "execution_count": 5,
      "outputs": []
    },
    {
      "cell_type": "code",
      "source": [
        "# Input: matrix A, vector b, initial vector x_0, and epsilon\n",
        "\n",
        "A = np.array([[1,2],[3,4]])\n",
        "b = np.array([0,3])\n",
        "x = np.zeros(2)\n",
        "e =  10**-12\n",
        "jacobi(A, b, x, e)"
      ],
      "metadata": {
        "id": "WxfTJafDKn3D",
        "outputId": "6d6819f9-60b4-4938-dec9-24feda82d158",
        "colab": {
          "base_uri": "https://localhost:8080/"
        }
      },
      "execution_count": 9,
      "outputs": [
        {
          "output_type": "stream",
          "name": "stdout",
          "text": [
            "Jacobi method\n",
            "The approximation for x is:\n",
            "[0.   0.75]\n"
          ]
        },
        {
          "output_type": "execute_result",
          "data": {
            "text/plain": [
              "array([0.  , 0.75])"
            ]
          },
          "metadata": {},
          "execution_count": 9
        }
      ]
    }
  ]
}